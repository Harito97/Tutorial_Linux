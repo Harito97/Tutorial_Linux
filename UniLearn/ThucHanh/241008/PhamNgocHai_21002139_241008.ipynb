{
 "cells": [
  {
   "cell_type": "markdown",
   "metadata": {},
   "source": [
    "# Thực hành"
   ]
  },
  {
   "cell_type": "markdown",
   "metadata": {},
   "source": [
    "## Ex 1\n",
    "\n",
    "Cho tệp tin \"dataset.txt\".\n",
    "\n",
    "Hãy sử dụng các biểu thức chính quy kết hợp với lệnh `grep` để tìm kiếm."
   ]
  },
  {
   "cell_type": "code",
   "execution_count": 1,
   "metadata": {},
   "outputs": [
    {
     "name": "stdout",
     "output_type": "stream",
     "text": [
      "1\n",
      "5\n",
      "3\n",
      "2769\n",
      "10\n",
      "2\n",
      "4\n",
      "8\n",
      "0\n",
      "100\n",
      "1000\n",
      "1555\n",
      "20\n",
      "11000\n",
      "111100\n",
      "111110\n",
      "100000\n",
      "1000000\n",
      "101000\n"
     ]
    }
   ],
   "source": [
    "# 1. Tập các số tự nhiên.\n",
    "\n",
    "!grep -E '^[0-9]$|^[1-9][0-9]*$' data/dataset.txt\n",
    "\n",
    "######################################################\n",
    "\n",
    "# If accept '010' is '10' then can use\n",
    "# !grep -P '^\\d+$' data/dataset.txt\n",
    "# Explanation\n",
    "# P: Perl regex (BRE)\n",
    "# ^: start of line\n",
    "# \\d+: one or more digits\n",
    "# $: end of line\n",
    "\n",
    "# !grep -E '\\b^[0-9]+\\b' data/dataset.txt    \n",
    "# Explanation\n",
    "# E: extended regex (ERE)\n",
    "# ^: start of line\n",
    "# [0-9]+: one or more digits (as + is greedy, it will match as many digits as possible)\n",
    "# \\b: word boundary\n",
    "\n",
    "# !grep -E '^[0-9]+$' data/dataset.txt\n",
    "# Explanation\n",
    "# E: extended regex (ERE)\n",
    "# ^: start of line\n",
    "# [0-9]+: one or more digits\n",
    "# $: end of line\n",
    "\n",
    "######################################################\n",
    "\n",
    "# sort and filter unique for short\n",
    "# !grep -oP '^\\d+$' data/dataset.txt | sort -n | uniq \n",
    "# Explanation\n",
    "# o: only matching\n",
    "# P: Perl regex (BRE)\n",
    "# ^: start of line\n",
    "# \\d+: one or more digits\n",
    "# $: end of line\n",
    "# sort: sort the output\n",
    "# n: numerical sort\n",
    "# uniq: remove duplicates"
   ]
  },
  {
   "cell_type": "code",
   "execution_count": 2,
   "metadata": {},
   "outputs": [
    {
     "name": "stdout",
     "output_type": "stream",
     "text": [
      "5\n",
      "10\n",
      "0\n",
      "100\n",
      "1000\n",
      "1555\n",
      "20\n",
      "11000\n",
      "111100\n",
      "111110\n",
      "100000\n",
      "1000000\n",
      "101000\n"
     ]
    }
   ],
   "source": [
    "# 2. Tập các số tự nhiên chia hết cho 5.\n",
    "\n",
    "!grep -E '^[05]$|^[1-9][0-9]*[05]$' data/dataset.txt"
   ]
  },
  {
   "cell_type": "code",
   "execution_count": 3,
   "metadata": {},
   "outputs": [],
   "source": [
    "# 3. Tập các số nhị phân có độ dài 6 và chia hết cho 4.\n",
    "\n",
    "# !echo 'Note: end = 00 or 100 -> divisible by 4'\n",
    "\n",
    "# Method 1\n",
    "!grep -E '^[01]{4}00$' data/dataset.txt\n",
    "# !grep -E '^[01]{4}[0]{2}$' data/dataset.txt\n",
    "\n",
    "# Method 2\n",
    "# !grep -E '^[01]{6}$' data/dataset.txt | grep -E '00$'\n",
    "# !grep -E '\\b[01]{6}\\b' data/dataset.txt | grep -E '00\\b'\n"
   ]
  },
  {
   "cell_type": "code",
   "execution_count": 4,
   "metadata": {},
   "outputs": [
    {
     "name": "stdout",
     "output_type": "stream",
     "text": [
      "This is an exerciseThis is an exercise. \n",
      "T check This is an exercise about regular expression. This is an exercise in Linux.\n",
      "This is an exercise about regular expression. This is an exercise in Linux.\n",
      "\n",
      "Special case: T or This in the file\n",
      "This\n",
      "abc This is an exercise This is an exercise\n",
      "\n",
      "1\n",
      "5\n"
     ]
    }
   ],
   "source": [
    "# 4. Tập các dòng bắt đầu bằng chữ cái \"T\" và chứa ít nhất 2 xâu \"This is an exercise\".\n",
    "\n",
    "!grep -E '^T' data/dataset.txt | grep -E '.*(This is an exercise).*(This is an exercise).*'\n",
    "!grep -E '^T' data/dataset.txt | grep -E '.*(This is an exercise.*){2,}'\n",
    "\n",
    "# Show the special case\n",
    "!echo '\\nSpecial case: T or This in the file'\n",
    "!head -n 5 data/dataset.txt"
   ]
  },
  {
   "cell_type": "markdown",
   "metadata": {},
   "source": [
    "## Ex2"
   ]
  },
  {
   "cell_type": "markdown",
   "metadata": {},
   "source": [
    "Cell's Jupyter notebook doesn't support show result but the logic still work"
   ]
  },
  {
   "cell_type": "code",
   "execution_count": 5,
   "metadata": {},
   "outputs": [],
   "source": [
    "# 1. Tìm kiếm các tệp tin/thư mục trong /etc có chứa ít nhất 2 chữ cái 'a'\n",
    "\n",
    "!ls -r /etc | grep -E '.*(a.*){2,}' > output/output1.txt"
   ]
  },
  {
   "cell_type": "code",
   "execution_count": 6,
   "metadata": {},
   "outputs": [],
   "source": [
    "# 2. Tìm kiếm các tệp tin/thư mục trong /etc bắt đầu bằng 'b' và không chứa 'c'\n",
    "\n",
    "!ls -r /etc | grep -E '^b.[^c]*$' > output/output2.txt"
   ]
  },
  {
   "cell_type": "code",
   "execution_count": null,
   "metadata": {},
   "outputs": [],
   "source": [
    "# 3. Tìm kiếm tên 'jiayant' đứng đầu (không phân biệt chữ hoa thường) trong tệp \"name_list.txt\"\n",
    "\n",
    "!grep -i '^jiayant.*' data/name_list.txt > output/out_jiayant.txt"
   ]
  },
  {
   "cell_type": "code",
   "execution_count": 8,
   "metadata": {},
   "outputs": [],
   "source": [
    "# 4. Liệt kê các số điện thoại có mã vùng Hà Nội \"024-xxxxxxx\" trong \"phone_list.txt\"\n",
    "\n",
    "!grep -E '^024-[0-9]{7}$' data/phone_list.txt > output/out_phonehanoi.txt"
   ]
  },
  {
   "cell_type": "code",
   "execution_count": 9,
   "metadata": {},
   "outputs": [],
   "source": [
    "# 5. Liệt kê các địa chỉ email hợp lệ trong \"data_list.txt\"\n",
    "\n",
    "!grep -E '^[a-zA-Z0-9._%+-]+@[a-zA-Z0-9.-]+\\.[a-zA-Z]{2,}$' data/data_list.txt > output/mail_list.txt"
   ]
  },
  {
   "cell_type": "markdown",
   "metadata": {},
   "source": [
    "# Tóm tắt lý thuyết\n",
    "\n",
    "`grep` command + `regular regex` + `pipeline`\n",
    "\n",
    "Also mean:\n",
    "\n",
    "`grep`, biểu thức chính quy (regex), và pipeline, đồng thời thêm một phần mô tả về cách sử dụng các công cụ này cùng nhau.\n",
    "\n",
    "## Lệnh `grep`\n",
    "\n",
    "`grep` là một lệnh phổ biến trong Linux được sử dụng để tìm kiếm các chuỗi văn bản phù hợp với một mẫu trong tệp hoặc dòng đầu ra từ các lệnh khác. Cú pháp cơ bản của lệnh `grep`:\n",
    "\n",
    "```bash\n",
    "grep [tùy chọn] 'mẫu' [tệp tin]\n",
    "```\n",
    "\n",
    "### Các tùy chọn hữu ích của `grep`:\n",
    "- `-E`: Sử dụng biểu thức chính quy mở rộng (extended regular expression).\n",
    "- `-i`: Không phân biệt chữ hoa và chữ thường khi tìm kiếm.\n",
    "- `-v`: Lọc ra các dòng không khớp với mẫu tìm kiếm.\n",
    "- `-r`: Tìm kiếm đệ quy trong các thư mục con.\n",
    "\n",
    "> Đọc thêm về bài tập `grep`: [Grep exercises](https://education.launchcode.org/linux/userspace-applications/exercises/grep/index.html)\n",
    "\n",
    "## Biểu thức chính quy (Regular Expressions)\n",
    "\n",
    "Biểu thức chính quy (regex) là các mẫu ký tự được sử dụng để khớp và thao tác trên chuỗi văn bản. `grep` hỗ trợ sử dụng các biểu thức chính quy để tìm kiếm các mẫu phức tạp.\n",
    "\n",
    "### Một số ký hiệu cơ bản của regex:\n",
    "- `.`: Đại diện cho bất kỳ ký tự đơn nào.\n",
    "- `*`: Lặp lại ký tự đứng trước 0 hoặc nhiều lần.\n",
    "- `[]`: Định nghĩa một tập hợp các ký tự (ví dụ: `[abc]` khớp với 'a', 'b', hoặc 'c').\n",
    "- `^`: Khớp với đầu dòng.\n",
    "- `$`: Khớp với cuối dòng.\n",
    "- `\\b`: Ranh giới từ (word boundary).\n",
    "\n",
    "> Đọc thêm về tài liệu regex: [Regular regex docs](https://regex101.com/) và các ví dụ: [Regular regex examples - gen test](https://regex101.com/).\n",
    "\n",
    "## Pipeline (`|`)\n",
    "\n",
    "Pipeline (`|`) là ký tự được sử dụng để kết nối các lệnh với nhau. Nó cho phép đầu ra của một lệnh trở thành đầu vào của lệnh khác, giúp dễ dàng kết hợp nhiều thao tác xử lý trên dữ liệu dòng lệnh.\n",
    "\n",
    "### Ví dụ cơ bản về pipeline:\n",
    "```bash\n",
    "cat file.txt | grep 'pattern'\n",
    "```\n",
    "\n",
    "Trong ví dụ này, đầu ra từ lệnh `cat file.txt` sẽ được chuyển qua pipeline và trở thành đầu vào của lệnh `grep`, cho phép bạn tìm kiếm 'pattern' trong dữ liệu.\n",
    "\n",
    "## Sử dụng kết hợp `grep`, regex và pipeline\n",
    "\n",
    "Dưới đây là một ví dụ minh họa việc kết hợp các công cụ trên:\n",
    "\n",
    "```bash\n",
    "grep -E '\\b[01]{6}\\b' data.txt | grep '00\\b'\n",
    "```\n",
    "\n",
    "Trong lệnh này:\n",
    "- `grep -E '\\b[01]{6}\\b'` tìm kiếm các chuỗi nhị phân có độ dài đúng 6 ký tự.\n",
    "- Pipeline (`|`) chuyển đầu ra từ `grep` đầu tiên đến `grep` thứ hai.\n",
    "- `grep '00\\b'` lọc ra các chuỗi kết thúc bằng '00'.\n",
    "\n",
    "Tất cả các công cụ này giúp chúng ta xử lý dữ liệu phức tạp một cách hiệu quả và chính xác.\n",
    "\n",
    "---\n",
    "\n",
    "**More resources**:\n",
    "- `grep`: [Grep exercises](https://education.launchcode.org/linux/userspace-applications/exercises/grep/index.html)\n",
    "- `regular regex`: [Regular regex docs](https://regex101.com/) and [Regular regex examples - gen test](https://regex101.com/)\n",
    "- `pipeline`: How to use pipeline: [Learn more about pipelines](https://www.linux.com/training-tutorials/linux-pipes-and-redirection-stdout/)"
   ]
  }
 ],
 "metadata": {
  "kernelspec": {
   "display_name": "ai_work#311",
   "language": "python",
   "name": "python3"
  },
  "language_info": {
   "codemirror_mode": {
    "name": "ipython",
    "version": 3
   },
   "file_extension": ".py",
   "mimetype": "text/x-python",
   "name": "python",
   "nbconvert_exporter": "python",
   "pygments_lexer": "ipython3",
   "version": "3.11.9"
  }
 },
 "nbformat": 4,
 "nbformat_minor": 2
}
