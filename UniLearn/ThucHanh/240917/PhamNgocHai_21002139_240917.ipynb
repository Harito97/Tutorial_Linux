{
 "cells": [
  {
   "cell_type": "markdown",
   "metadata": {},
   "source": [
    "**Bài tập 17/09/2024**"
   ]
  },
  {
   "cell_type": "markdown",
   "metadata": {},
   "source": [
    "1. **Hiển thị thư mục hiện tại:**\n",
    "   * **Lệnh:** `pwd`\n",
    "   * **Chức năng:** Hiển thị đường dẫn đầy đủ của thư mục mà bạn đang làm việc."
   ]
  },
  {
   "cell_type": "code",
   "execution_count": 1,
   "metadata": {},
   "outputs": [
    {
     "name": "stdout",
     "output_type": "stream",
     "text": [
      "/home/harito/Documents/Linux/ThucHanh/240917\n"
     ]
    }
   ],
   "source": [
    "!pwd"
   ]
  },
  {
   "cell_type": "markdown",
   "metadata": {},
   "source": [
    "2. **Chuyển đến thư mục /home/student:**\n",
    "   * **Lệnh:** `cd /home/student`\n",
    "   * **Chức năng:** Di chuyển đến thư mục /home/student."
   ]
  },
  {
   "cell_type": "code",
   "execution_count": 2,
   "metadata": {},
   "outputs": [
    {
     "name": "stdout",
     "output_type": "stream",
     "text": [
      "/home/harito/Documents/Linux/ThucHanh/240917/student\n"
     ]
    }
   ],
   "source": [
    "# %pip install pickleshare\n",
    "%cd student"
   ]
  },
  {
   "cell_type": "markdown",
   "metadata": {},
   "source": [
    "3. **Tạo thư mục con Linux:**\n",
    "   * **Lệnh:** `mkdir Linux`\n",
    "   * **Chức năng:** Tạo một thư mục mới tên là Linux trong thư mục hiện tại."
   ]
  },
  {
   "cell_type": "code",
   "execution_count": 3,
   "metadata": {},
   "outputs": [],
   "source": [
    "%mkdir Linux"
   ]
  },
  {
   "cell_type": "markdown",
   "metadata": {},
   "source": [
    "4. **Tạo các thư mục con Work và Play, và các thư mục con của Work:**\n",
    "   * **Lệnh:**\n",
    "     ```bash\n",
    "     mkdir Work Play\n",
    "     cd Work\n",
    "     mkdir Dir1 Dir2\n",
    "     cd ..\n",
    "     ```\n",
    "   * **Chức năng:** Tạo các thư mục con theo yêu cầu."
   ]
  },
  {
   "cell_type": "code",
   "execution_count": 4,
   "metadata": {},
   "outputs": [
    {
     "name": "stdout",
     "output_type": "stream",
     "text": [
      "Linux  Play  Work\n",
      "/home/harito/Documents/Linux/ThucHanh/240917/student/Work\n",
      "Dir1  Dir2\n",
      "/home/harito/Documents/Linux/ThucHanh/240917/student\n"
     ]
    }
   ],
   "source": [
    "%mkdir Work Play && ls\n",
    "%cd Work\n",
    "%mkdir Dir1 Dir2 && ls\n",
    "%cd .."
   ]
  },
  {
   "cell_type": "markdown",
   "metadata": {},
   "source": [
    "5. **Chuyển thư mục Play:**\n",
    "   * **Lệnh:** `mv Play /home/student/Desktop`\n",
    "   * **Chức năng:** Di chuyển thư mục Play đến thư mục /home/student/Desktop."
   ]
  },
  {
   "cell_type": "code",
   "execution_count": 5,
   "metadata": {},
   "outputs": [],
   "source": [
    "!mv Play ~/Desktop && rm -r ~/Desktop/Play"
   ]
  },
  {
   "cell_type": "markdown",
   "metadata": {},
   "source": [
    "6. **Xóa thư mục Play (nếu còn ở thư mục hiện tại):**\n",
    "   * **Lệnh:** `rmdir Play`\n",
    "   * **Chức năng:** Xóa thư mục Play (chỉ xóa được thư mục rỗng)."
   ]
  },
  {
   "cell_type": "code",
   "execution_count": 6,
   "metadata": {},
   "outputs": [
    {
     "name": "stdout",
     "output_type": "stream",
     "text": [
      "Linux  Work\n"
     ]
    }
   ],
   "source": [
    "!ls\n",
    "# % rmdir Play "
   ]
  },
  {
   "cell_type": "markdown",
   "metadata": {},
   "source": [
    "7. **Tạo và chỉnh sửa tệp tin trong Work/Dir1:**\n",
    "   * **Lệnh:**\n",
    "     ```bash\n",
    "     cd Work/Dir1\n",
    "     touch file1.txt file2.txt\n",
    "     echo \"Xin chao\" > file1.txt\n",
    "     echo \"cac ban sinh vien!\" > file2.txt\n",
    "     echo \"Hom nay la buoi hoc thuc hanh dau tien mon Linux\" >> file1.txt\n",
    "     ```\n",
    "   * **Chức năng:** Tạo hai tệp tin, ghi nội dung vào, và thêm nội dung vào file1.txt."
   ]
  },
  {
   "cell_type": "code",
   "execution_count": 7,
   "metadata": {},
   "outputs": [
    {
     "name": "stdout",
     "output_type": "stream",
     "text": [
      "/home/harito/Documents/Linux/ThucHanh/240917/student/Work/Dir1\n"
     ]
    }
   ],
   "source": [
    "%cd Work/Dir1\n",
    "!touch file1.txt file2.txt\n",
    "!echo \"Xin chao\" > file1.txt\n",
    "!echo \"cac ban sinh vien!\" > file2.txt\n",
    "!echo \"Hom nay la buoi hoc thuc hanh dau tien mon Linux\" >> file1.txt"
   ]
  },
  {
   "cell_type": "markdown",
   "metadata": {},
   "source": [
    "8. **Hiển thị nội dung tệp tin:**\n",
    "   * **Lệnh:** `cat file1.txt` (tương tự với file2.txt)\n",
    "   * **Chức năng:** Hiển thị nội dung của tệp tin ra màn hình."
   ]
  },
  {
   "cell_type": "code",
   "execution_count": 8,
   "metadata": {},
   "outputs": [
    {
     "name": "stdout",
     "output_type": "stream",
     "text": [
      "Xin chao\n",
      "Hom nay la buoi hoc thuc hanh dau tien mon Linux\n"
     ]
    }
   ],
   "source": [
    "!cat file1.txt"
   ]
  },
  {
   "cell_type": "markdown",
   "metadata": {},
   "source": [
    "9. **Sao chép nội dung tệp tin:**\n",
    "   * **Lệnh:** `cat file1.txt file2.txt > file3.txt`\n",
    "   * **Chức năng:** Ghép nội dung của file1.txt và file2.txt vào file3.txt."
   ]
  },
  {
   "cell_type": "code",
   "execution_count": 9,
   "metadata": {},
   "outputs": [],
   "source": [
    "!cat file1.txt file2.txt > file3.txt"
   ]
  },
  {
   "cell_type": "markdown",
   "metadata": {},
   "source": [
    "10. **Chuyển tệp tin:**\n",
    "   * **Lệnh:** `mv file3.txt ../Dir2`\n",
    "   * **Chức năng:** Di chuyển file3.txt vào thư mục Dir2."
   ]
  },
  {
   "cell_type": "code",
   "execution_count": 10,
   "metadata": {},
   "outputs": [],
   "source": [
    "!mv file3.txt ../Dir2"
   ]
  },
  {
   "cell_type": "markdown",
   "metadata": {},
   "source": [
    "11+12. **Tạo liên kết cứng và mềm:**\n",
    "\n",
    "  * **Lệnh:**  \n",
    "  \n",
    "    ```bash\n",
    "    cd ../Dir2\n",
    "    ln file3.txt file4.txt\n",
    "    rm file3.txt\n",
    "    cat file4.txt\n",
    "    ln -s file4.txt file5.txt\n",
    "    rm file4.txt\n",
    "    cat file5.txt\n",
    "    ```\n",
    "  * **Chức năng:**  \n",
    "  \n",
    "    Tạo liên kết cứng và mềm, xóa tệp tin gốc, và kiểm tra nội dung của liên kết."
   ]
  },
  {
   "cell_type": "code",
   "execution_count": 11,
   "metadata": {},
   "outputs": [
    {
     "name": "stdout",
     "output_type": "stream",
     "text": [
      "/home/harito/Documents/Linux/ThucHanh/240917/student/Work/Dir2\n",
      "Xin chao\n",
      "Hom nay la buoi hoc thuc hanh dau tien mon Linux\n",
      "cac ban sinh vien!\n",
      "cat: file5.txt: No such file or directory\n"
     ]
    }
   ],
   "source": [
    "%cd ../Dir2\n",
    "!ln file3.txt file4.txt\n",
    "!rm file3.txt\n",
    "!cat file4.txt\n",
    "!ln -s file4.txt file5.txt\n",
    "!rm file4.txt\n",
    "!cat file5.txt"
   ]
  },
  {
   "cell_type": "markdown",
   "metadata": {},
   "source": [
    "**Lưu ý:**\n",
    "\n",
    "* **Liên kết cứng:** Trỏ trực tiếp đến inode của tệp tin gốc. Khi xóa tệp tin gốc, liên kết cứng vẫn còn hiệu lực cho đến khi tất cả các liên kết cứng bị xóa.\n",
    "* **Liên kết mềm:** Chỉ chứa đường dẫn đến tệp tin gốc. Nếu xóa tệp tin gốc, liên kết mềm sẽ trở nên vô hiệu.\n",
    "\n",
    "$\\to$ Điều đó giải thích tại sao khi tạo liên kết cứng của file4.txt với file3.txt. Việc xóa file3.txt không làm file4.txt vô dụng, nó vẫn chứa nội dung.\n",
    "\n",
    "Tuy nhiên khi tạo liên kết mềm của file5.txt với file4.txt. Việc xóa file4.txt khiến file5.txt vô dụng và hiển thị thông tin: `cat: file5.txt: No such file or directory`\n",
    "\n",
    "**Mở rộng:**\n",
    "\n",
    "Một số lệnh hữu ích khác bao gồm:\n",
    "\n",
    "* `ls`: Liệt kê các tệp tin và thư mục trong một thư mục.\n",
    "* `rm`: Xóa tệp tin hoặc thư mục.\n",
    "* `cp`: Sao chép tệp tin hoặc thư mục.\n",
    "* `chmod`: Thay đổi quyền truy cập của tệp tin hoặc thư mục.\n",
    "* `find`: Tìm kiếm tệp tin theo tiêu chí."
   ]
  }
 ],
 "metadata": {
  "kernelspec": {
   "display_name": "ai_work#311",
   "language": "python",
   "name": "python3"
  },
  "language_info": {
   "codemirror_mode": {
    "name": "ipython",
    "version": 3
   },
   "file_extension": ".py",
   "mimetype": "text/x-python",
   "name": "python",
   "nbconvert_exporter": "python",
   "pygments_lexer": "ipython3",
   "version": "3.11.9"
  }
 },
 "nbformat": 4,
 "nbformat_minor": 2
}
