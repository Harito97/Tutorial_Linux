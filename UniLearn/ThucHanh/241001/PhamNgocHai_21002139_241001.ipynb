{
 "cells": [
  {
   "cell_type": "markdown",
   "metadata": {},
   "source": [
    "**Quản lý người dùng và mạng**"
   ]
  },
  {
   "cell_type": "markdown",
   "metadata": {},
   "source": [
    "# Phần bài tập\n",
    "\n",
    "**Lưu ý:**\n",
    "\n",
    "* Các lệnh được thực hiện trong terminal Linux.\n",
    "* Quyền truy cập vào hệ thống có thể bị hạn chế, vì vậy thực hiện các lệnh với quyền root hoặc sudo nếu cần thiết."
   ]
  },
  {
   "cell_type": "markdown",
   "metadata": {},
   "source": [
    "## Hiển thị người dùng đã đăng nhập và hoạt động\n",
    "\n",
    "**Các lệnh:**\n",
    "\n",
    "* **`who`:** Hiển thị danh sách người dùng đang đăng nhập, thời gian đăng nhập và terminal được sử dụng.\n",
    "* **`whoami`**: Để hiển thị tên người dùng hiện tại\n",
    "* **`w`:** Hiển thị thông tin chi tiết hơn về hoạt động của người dùng, bao gồm tên người dùng, terminal, thời gian không hoạt động, tiến trình đang chạy.\n",
    "* **`last`:** Hiển thị lịch sử đăng nhập của các người dùng.\n",
    "* **`top`:** Hiển thị các tiến trình đang chạy, bao gồm cả người dùng sở hữu tiến trình.\n",
    "* ..."
   ]
  },
  {
   "cell_type": "code",
   "execution_count": 1,
   "metadata": {},
   "outputs": [
    {
     "name": "stdout",
     "output_type": "stream",
     "text": [
      "\n",
      "+ Command `w`\n",
      "\n"
     ]
    },
    {
     "name": "stdout",
     "output_type": "stream",
     "text": [
      " 10:36:16 up  1:10,  2 users,  load average: 1.29, 1.55, 1.66\n",
      "USER     TTY       LOGIN@   IDLE   JCPU   PCPU  WHAT\n",
      "harito   tty1      09:27    1:08m 16:30   0.07s /usr/lib/firefox/firefox -conte\n",
      "harito             09:27    1:08m  0.00s  0.23s /usr/lib/systemd/systemd --user\n"
     ]
    }
   ],
   "source": [
    "# !echo '\\n+ Command `who`\\n'\n",
    "# !who\n",
    "# !echo '\\n+ Command `whoami`\\n'\n",
    "# !whoami\n",
    "!echo '\\n+ Command `w`\\n'\n",
    "!w\n",
    "# !echo '\\n+ Command `groups`\\n'\n",
    "# !groups\n",
    "# !echo '\\n+ Command `last`\\n'\n",
    "# !last -n 5"
   ]
  },
  {
   "cell_type": "markdown",
   "metadata": {},
   "source": [
    "## Hiển thị mã người dùng và mã nhóm\n",
    "\n",
    "**Lệnh:**\n",
    "\n",
    "* **`id`:** Hiển thị UID (User ID) và GID (Group ID) của người dùng hiện tại."
   ]
  },
  {
   "cell_type": "code",
   "execution_count": 2,
   "metadata": {},
   "outputs": [
    {
     "name": "stdout",
     "output_type": "stream",
     "text": [
      "\n",
      "+ Command `id`\n",
      "\n"
     ]
    },
    {
     "name": "stdout",
     "output_type": "stream",
     "text": [
      "uid=1000(harito) gid=1000(harito) groups=1000(harito),998(wheel)\n"
     ]
    }
   ],
   "source": [
    "!echo '\\n+ Command `id`\\n'\n",
    "!id"
   ]
  },
  {
   "cell_type": "markdown",
   "metadata": {},
   "source": [
    "## Tạo người dùng mới và hiển thị thông tin\n",
    "\n",
    "**Lệnh:**\n",
    "\n",
    "* **`useradd`:** Tạo người dùng mới.\n",
    "* **`passwd`:** Thiết lập mật khẩu cho người dùng.\n",
    "* **`id`:** Hiển thị UID và GID của người dùng."
   ]
  },
  {
   "cell_type": "code",
   "execution_count": 3,
   "metadata": {},
   "outputs": [
    {
     "name": "stdout",
     "output_type": "stream",
     "text": [
      "uid=1001(user1) gid=1001(user1) groups=1001(user1)\n"
     ]
    }
   ],
   "source": [
    "# !sudo su\n",
    "# !su\n",
    "\n",
    "# !useradd -m -d /home/user1 user1\n",
    "\n",
    "# !passwd user1\n",
    "# New password: # enter: 123456 \n",
    "# Retype new password: \n",
    "# passwd: password updated successfully\n",
    "\n",
    "# !useradd -m -d /home/user1 -p 123456 user1\n",
    "!id user1"
   ]
  },
  {
   "cell_type": "markdown",
   "metadata": {},
   "source": [
    "## Hiển thị tất cả nhóm và thành viên\n",
    "\n",
    "**Lệnh:**\n",
    "\n",
    "* **`cat /etc/group`:** Hiển thị nội dung của file `/etc/group` chứa thông tin về các nhóm."
   ]
  },
  {
   "cell_type": "code",
   "execution_count": 10,
   "metadata": {},
   "outputs": [
    {
     "name": "stdout",
     "output_type": "stream",
     "text": [
      "\n",
      "+ Get 5 user groups\n",
      "\n",
      "flatpak:x:968:\n",
      "docker:x:967:\n",
      "alpm:x:966:\n",
      "user1:x:1001:\n",
      "user2:x:1002:\n",
      "\n",
      "+ Search `user`\n",
      "\n",
      "users:x:984:\n",
      "user1:x:1001:\n",
      "user2:x:1002:\n"
     ]
    }
   ],
   "source": [
    "!echo '\\n+ Get 5 user groups\\n'\n",
    "!tail -n 5 /etc/group\n",
    "\n",
    "!echo '\\n+ Search `user`\\n'\n",
    "!cat /etc/group | grep user"
   ]
  },
  {
   "cell_type": "markdown",
   "metadata": {},
   "source": [
    "## Tạo thư mục, file và cấp quyền\n",
    "\n",
    "**Lệnh:**\n",
    "\n",
    "* **`chmod`:** Thay đổi quyền truy cập.\n",
    "\n",
    "* **Các quyền:**\n",
    "  * `u`: User (chủ sở hữu)\n",
    "  * `g`: Group (nhóm sở hữu)\n",
    "  * `o`: Others (người dùng khác)\n",
    "  * `r`: Read (đọc)\n",
    "  * `w`: Write (ghi)\n",
    "  * `x`: Execute (thực thi)"
   ]
  },
  {
   "cell_type": "code",
   "execution_count": 5,
   "metadata": {},
   "outputs": [
    {
     "name": "stdout",
     "output_type": "stream",
     "text": [
      "/home/harito/Documents/Tutorial_Linux/UniLearn/ThucHanh/241001/Desktop/LinuxTuan02\n",
      "Buổi thực hành Linux Tuần 02\n"
     ]
    }
   ],
   "source": [
    "!mkdir -p ./Desktop/LinuxTuan02\n",
    "%cd ./Desktop/LinuxTuan02\n",
    "!echo 'Buổi thực hành Linux Tuần 02' > test1.txt\n",
    "!cat test1.txt"
   ]
  },
  {
   "cell_type": "code",
   "execution_count": 6,
   "metadata": {},
   "outputs": [
    {
     "name": "stdout",
     "output_type": "stream",
     "text": [
      "-rwxrw-r-- 1 harito harito 36 Oct  1 10:36 test1.txt\n"
     ]
    }
   ],
   "source": [
    "# Sử dụng ký tự:\n",
    "!chmod u=rwx,g=rw,o=r test1.txt\n",
    "!ls -l test1.txt"
   ]
  },
  {
   "cell_type": "code",
   "execution_count": 7,
   "metadata": {},
   "outputs": [
    {
     "name": "stdout",
     "output_type": "stream",
     "text": [
      "-rwxrw-r-- 1 harito harito 36 Oct  1 10:36 test1.txt\n"
     ]
    }
   ],
   "source": [
    "# Sử dụng số bát phân:\n",
    "\n",
    "!chmod 764 test1.txt\n",
    "!ls -l test1.txt"
   ]
  },
  {
   "cell_type": "markdown",
   "metadata": {},
   "source": [
    "## Thay đổi quyền sở hữu và nhóm\n",
    "\n",
    "**Lệnh:**\n",
    "\n",
    "* **`chown`:** Thay đổi chủ sở hữu.\n",
    "* **`chgrp`:** Thay đổi nhóm sở hữu."
   ]
  },
  {
   "cell_type": "code",
   "execution_count": 9,
   "metadata": {},
   "outputs": [
    {
     "name": "stdout",
     "output_type": "stream",
     "text": [
      "/home/harito/Documents/Tutorial_Linux/UniLearn/ThucHanh/241001/Desktop/LinuxTuan02\n",
      "-rwxrw-r-- 1 user1 user1 36 Oct  1 10:36 test1.txt\n"
     ]
    }
   ],
   "source": [
    "# Thay đổi chủ sở hữu và nhóm\n",
    "# !chown user1:user1 test1.txt\n",
    "# chown: changing ownership of 'test1.txt': Operation not permitted\n",
    "\n",
    "!pwd\n",
    "!ls -l test1.txt\n",
    "# -rwxrw-r-- 1 user1 user1 36 Oct  1 10:20 test1.txt"
   ]
  }
 ],
 "metadata": {
  "kernelspec": {
   "display_name": "ai_work#311",
   "language": "python",
   "name": "python3"
  },
  "language_info": {
   "codemirror_mode": {
    "name": "ipython",
    "version": 3
   },
   "file_extension": ".py",
   "mimetype": "text/x-python",
   "name": "python",
   "nbconvert_exporter": "python",
   "pygments_lexer": "ipython3",
   "version": "3.11.9"
  }
 },
 "nbformat": 4,
 "nbformat_minor": 2
}
