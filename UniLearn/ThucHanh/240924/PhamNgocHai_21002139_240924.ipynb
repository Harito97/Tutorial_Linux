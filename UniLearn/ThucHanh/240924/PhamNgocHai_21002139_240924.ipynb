{
 "cells": [
  {
   "cell_type": "markdown",
   "metadata": {},
   "source": [
    "# Hiển thị tất cả các tệp tin trong thư mục /etc vs ls"
   ]
  },
  {
   "cell_type": "code",
   "execution_count": 1,
   "metadata": {},
   "outputs": [
    {
     "name": "stdout",
     "output_type": "stream",
     "text": [
      ".\t\t\tkeyutils\t\tprofile.d\n",
      "..\t\t\tkrb5.conf\t\tprotocols\n",
      "alsa\t\t\tld.so.cache\t\tpulse\n",
      "arch-release\t\tld.so.conf\t\t.pwd.lock\n",
      "audisp\t\t\tld.so.conf.d\t\tR\n",
      "audit\t\t\tlibaudit.conf\t\trc_keymaps\n",
      "avahi\t\t\tlibblockdev\t\trc_maps.cfg\n",
      "bash.bash_logout\tlibinput\t\trequest-key.conf\n",
      "bash.bashrc\t\tlibnl\t\t\trequest-key.d\n",
      "bindresvport.blacklist\tlibpaper.d\t\tresolv.conf\n",
      "binfmt.d\t\tlibreoffice\t\trhashrc\n",
      "bluetooth\t\tlibva.conf\t\trpc\n",
      "ca-certificates\t\tlocale.conf\t\tsddm.conf.d\n",
      "cifs-utils\t\tlocale.gen\t\tsecuretty\n",
      "conf.d\t\t\tlocale.gen.pacnew\tsecurity\n",
      "credstore\t\tlocaltime\t\tsensors3.conf\n",
      "credstore.encrypted\tlogin.defs\t\tsensors.d\n",
      "cryptsetup-keys.d\tmachine-id\t\tservices\n",
      "crypttab\t\tmailcap\t\t\tshadow\n",
      "dconf\t\t\tmakepkg.conf\t\tshadow-\n",
      "debuginfod\t\tmakepkg.conf.d\t\tshells\n",
      "default\t\t\tmdadm.conf\t\tskel\n",
      "depmod.d\t\tmime.types\t\tslsh.rc\n",
      "dunst\t\t\tmke2fs.conf\t\tssh\n",
      "e2scrub.conf\t\tmkinitcpio.conf\t\tssl\n",
      "environment\t\tmkinitcpio.conf.d\tsubgid\n",
      "ethertypes\t\tmkinitcpio.d\t\tsubgid-\n",
      "flatpak\t\t\tmodprobe.d\t\tsubuid\n",
      "fonts\t\t\tmodules-load.d\t\tsubuid-\n",
      "fstab\t\t\tmtab\t\t\tsudo.conf\n",
      "fuse.conf\t\tnanorc\t\t\tsudoers\n",
      "gai.conf\t\tnetconfig\t\tsudoers.d\n",
      "geoclue\t\t\tNetworkManager\t\tsudo_logsrvd.conf\n",
      "gnutls\t\t\tnginx\t\t\tsysctl.d\n",
      "gprofng.rc\t\tnsswitch.conf\t\tsystemd\n",
      "group\t\t\topenldap\t\ttexmf\n",
      "group-\t\t\tos-release\t\ttmpfiles.d\n",
      "grub.d\t\t\tostree\t\t\ttpm2-tss\n",
      "gshadow\t\t\tostree-mkinitcpio.conf\tts.conf\n",
      "gshadow-\t\tpacman.conf\t\tudev\n",
      "gtk-3.0\t\t\tpacman.conf.pacnew\tudisks2\n",
      "healthd.conf\t\tpacman.conf.t2.bkp\t.updated\n",
      "host.conf\t\tpacman.d\t\tUPower\n",
      "hostname\t\tpam.d\t\t\tvconsole.conf\n",
      "hosts\t\t\tpapersize\t\tvdpau_wrapper.cfg\n",
      "hyde-cli\t\tpaperspecs\t\tvimrc\n",
      "ImageMagick-7\t\tpasswd\t\t\twgetrc\n",
      "initcpio\t\tpasswd-\t\t\twlogout\n",
      "inputrc\t\t\tpasswd.OLD\t\twpa_supplicant\n",
      "iptables\t\tpipewire\t\tX11\n",
      "issue\t\t\tpkcs11\t\t\txattr.conf\n",
      "java-openjdk\t\tpolkit-1\t\txdg\n",
      "kernel\t\t\tprofile\t\t\tzsh\n"
     ]
    }
   ],
   "source": [
    "!ls -a /etc"
   ]
  },
  {
   "cell_type": "markdown",
   "metadata": {},
   "source": [
    "# Tạo ra cây thư mục dưới đây vs mkdir  \n",
    "\n",
    "```markdown\n",
    "/\n",
    "|___home\n",
    "    |___student\n",
    "        |___Desktop\n",
    "            |___LINUX\n",
    "            |___OnTap\n",
    "                |___LyThuyet\n",
    "                |___BaiTap\n",
    "```"
   ]
  },
  {
   "cell_type": "code",
   "execution_count": 2,
   "metadata": {},
   "outputs": [
    {
     "name": "stdout",
     "output_type": "stream",
     "text": [
      "/home/harito/Documents/Tutorial_Linux/UniLearn/ThucHanh/240924\n"
     ]
    }
   ],
   "source": [
    "!pwd"
   ]
  },
  {
   "cell_type": "code",
   "execution_count": 3,
   "metadata": {},
   "outputs": [],
   "source": [
    "!mkdir student student/Desktop && cd student/Desktop && mkdir LINUX OnTap OnTap/LyThuyet OnTap/BaiTap"
   ]
  },
  {
   "cell_type": "markdown",
   "metadata": {},
   "source": [
    "# Di chuyển thư mục \"Bai Tap\" sang thư mục \"LINUX\" vs mv"
   ]
  },
  {
   "cell_type": "code",
   "execution_count": 4,
   "metadata": {},
   "outputs": [
    {
     "name": "stdout",
     "output_type": "stream",
     "text": [
      "/home/harito/Documents/Tutorial_Linux/UniLearn/ThucHanh/240924\n"
     ]
    }
   ],
   "source": [
    "!pwd"
   ]
  },
  {
   "cell_type": "code",
   "execution_count": 5,
   "metadata": {},
   "outputs": [],
   "source": [
    "!mv student/Desktop/OnTap/BaiTap student/Desktop/LINUX"
   ]
  },
  {
   "cell_type": "markdown",
   "metadata": {},
   "source": [
    "# Tạo tệp tin với echo\n",
    "\n",
    "Trong thư mục “LyThuyet” tạo ra 02 tệp tin “lythuyet01.txt” có nội dung “Ôn tập các thao tác trên tệp tin và thư mục” và “lythuyet02.txt” có nội dung “thực hành các bài tập về lập trình shell”"
   ]
  },
  {
   "cell_type": "code",
   "execution_count": 6,
   "metadata": {},
   "outputs": [],
   "source": [
    "!echo \"Ôn tập các thao tác trên tệp tin và thư mục\" > student/Desktop/OnTap/LyThuyet/lythuyet01.txt\n",
    "!echo \"thực hành các bài tập về lập trình shell\" > student/Desktop/OnTap/LyThuyet/lythuyet02.txt"
   ]
  },
  {
   "cell_type": "markdown",
   "metadata": {},
   "source": [
    "# Sao chép các tệp tin vào tệp tin mới vs cat\n",
    "\n",
    "Sao chép nội dung của hai tệp tin vừa tạo vào một tệp tin mới có tên “tonghop.txt” trong thư mục “LyThuyet” "
   ]
  },
  {
   "cell_type": "code",
   "execution_count": 7,
   "metadata": {},
   "outputs": [],
   "source": [
    "!cat student/Desktop/OnTap/LyThuyet/lythuyet01.txt student/Desktop/OnTap/LyThuyet/lythuyet02.txt > student/Desktop/OnTap/LyThuyet/tonghop.txt"
   ]
  },
  {
   "cell_type": "markdown",
   "metadata": {},
   "source": [
    "# Di chuyển tệp tin \n",
    "\n",
    "“tonghop.txt” sang thư mục “BaiTap” vs mv"
   ]
  },
  {
   "cell_type": "code",
   "execution_count": 8,
   "metadata": {},
   "outputs": [],
   "source": [
    "!mv student/Desktop/OnTap/LyThuyet/tonghop.txt student/Desktop/LINUX/BaiTap"
   ]
  },
  {
   "cell_type": "markdown",
   "metadata": {},
   "source": [
    "# Xem và chỉnh quyền tệp tin\n",
    "\n",
    "Xem thông tin của tệp tin “tonghop.txt”, và thay đổi quyền truy cập cho tệp tin “tonghop.txt” sao cho tất cả các nhóm người dùng khác đều có thể đọc, ghi và thực thi được."
   ]
  },
  {
   "cell_type": "code",
   "execution_count": 9,
   "metadata": {},
   "outputs": [
    {
     "name": "stdout",
     "output_type": "stream",
     "text": [
      "Ôn tập các thao tác trên tệp tin và thư mục\n",
      "thực hành các bài tập về lập trình shell\n"
     ]
    }
   ],
   "source": [
    "!cat student/Desktop/LINUX/BaiTap/tonghop.txt\n",
    "# or \n",
    "# !tail -n 2 student/Desktop/LINUX/BaiTap/tonghop.txt\n",
    "# !head -n 2 student/Desktop/LINUX/BaiTap/tonghop.txt\n",
    "# !ls -l student/Desktop/LINUX/BaiTap/tonghop.txt"
   ]
  },
  {
   "cell_type": "code",
   "execution_count": 10,
   "metadata": {},
   "outputs": [
    {
     "name": "stdout",
     "output_type": "stream",
     "text": [
      "-rwxrwxrwx 1 harito harito 109 Sep 24 11:19 student/Desktop/LINUX/BaiTap/tonghop.txt\n"
     ]
    }
   ],
   "source": [
    "!chmod 777 student/Desktop/LINUX/BaiTap/tonghop.txt\n",
    "!ls -l student/Desktop/LINUX/BaiTap/tonghop.txt"
   ]
  },
  {
   "cell_type": "markdown",
   "metadata": {},
   "source": [
    "# Đổi tên thư mục \n",
    "\n",
    "“Ontap” thành “OntapLinux”"
   ]
  },
  {
   "cell_type": "code",
   "execution_count": 11,
   "metadata": {},
   "outputs": [],
   "source": [
    "!mv student/Desktop/OnTap student/Desktop/OnTapLinux\n",
    "# or\n",
    "# !rename 'Ontap' 'OntapLinux' Ontap/ # note that cd ..."
   ]
  },
  {
   "cell_type": "markdown",
   "metadata": {},
   "source": [
    "# Xóa thư mục \n",
    "\n",
    "“LyThuyet” trong thư mục “OntapLinux”"
   ]
  },
  {
   "cell_type": "code",
   "execution_count": 12,
   "metadata": {},
   "outputs": [],
   "source": [
    "!rm -r student/Desktop/OnTapLinux/LyThuyet"
   ]
  },
  {
   "cell_type": "markdown",
   "metadata": {},
   "source": [
    "# Chuyển về thư mục \n",
    "\n",
    "/home/student"
   ]
  },
  {
   "cell_type": "code",
   "execution_count": 13,
   "metadata": {},
   "outputs": [
    {
     "name": "stdout",
     "output_type": "stream",
     "text": [
      "/home/harito/Documents/Tutorial_Linux/UniLearn/ThucHanh/240924\n"
     ]
    }
   ],
   "source": [
    "# !cd # if want to go to home directory /home/user_name\n",
    "!cd . && pwd"
   ]
  },
  {
   "cell_type": "markdown",
   "metadata": {},
   "source": [
    "# Tìm kiếm tệp tin thỏa mãn điều kiện\n",
    "\n",
    "Hiển thị tất cả các thư mục trong thư mục `/tmp` chứa ít nhất một chữ cái in hoa    "
   ]
  },
  {
   "cell_type": "code",
   "execution_count": 14,
   "metadata": {},
   "outputs": [
    {
     "name": "stdout",
     "output_type": "stream",
     "text": [
      "/tmp/systemd-private-a28ca3e666ed495b9f612ed504ade385-bluetooth.service-JINT0e/\n",
      "/tmp/systemd-private-a28ca3e666ed495b9f612ed504ade385-dbus-broker.service-tg5PU4/\n",
      "/tmp/systemd-private-a28ca3e666ed495b9f612ed504ade385-polkit.service-LngzR5/\n",
      "/tmp/systemd-private-a28ca3e666ed495b9f612ed504ade385-systemd-logind.service-soFpbG/\n",
      "/tmp/systemd-private-a28ca3e666ed495b9f612ed504ade385-systemd-timesyncd.service-qwcNm8/\n",
      "/tmp/systemd-private-a28ca3e666ed495b9f612ed504ade385-upower.service-zEG3e4/\n",
      "/tmp/Temp-a0816f94-4ebe-41eb-b14b-28169dc88776/\n"
     ]
    }
   ],
   "source": [
    "!ls -d /tmp/*/ | grep '[A-Z]'\n",
    "# !ls -d /tmp/*/ *[[:upper:]]* -a\n",
    "# !find /tmp/*/ -type d -name '*[A-Z]*'"
   ]
  },
  {
   "cell_type": "markdown",
   "metadata": {},
   "source": [
    "# Tìm kiếm tệp tin thỏa mãn điều kiện\n",
    "\n",
    "Liệt kê tất cả các thư mục có trong thư mục `/etc` có chứa ít nhất một chữ số (từ 0 đến 9)"
   ]
  },
  {
   "cell_type": "code",
   "execution_count": 15,
   "metadata": {},
   "outputs": [
    {
     "name": "stdout",
     "output_type": "stream",
     "text": [
      "/etc/gtk-3.0/\n",
      "/etc/ImageMagick-7/\n",
      "/etc/pkcs11/\n",
      "/etc/polkit-1/\n",
      "/etc/tpm2-tss/\n",
      "/etc/udisks2/\n",
      "/etc/X11/\n"
     ]
    }
   ],
   "source": [
    "!ls -d /etc/*/ | grep '[0-9]'\n",
    "# !ls -d /etc/*/ *[[:digit:]]*\n",
    "# !find /etc/*/ -type d -name '*[0-9]*'"
   ]
  },
  {
   "cell_type": "markdown",
   "metadata": {},
   "source": [
    "# Tìm kiếm tệp tin thỏa mãn điều kiện\n",
    "\n",
    "Hiển thị tất cả các thư mục / tệp tin có trong thư mục `/etc` có ít nhất hai chữ cái “a” trong đó có một chữ cái a đứng ở đầu"
   ]
  },
  {
   "cell_type": "code",
   "execution_count": 16,
   "metadata": {},
   "outputs": [
    {
     "name": "stdout",
     "output_type": "stream",
     "text": [
      "alsa\n",
      "arch-release\n",
      "avahi\n"
     ]
    }
   ],
   "source": [
    "!ls -a /etc | grep '^a.*a'\n",
    "# !ls -a /etc | awk '/^a.*a/'\n",
    "# !ls -a /etc/a*a*"
   ]
  },
  {
   "cell_type": "markdown",
   "metadata": {},
   "source": [
    "# Tạo tệp tin thỏa mãn điều kiện\n",
    "\n",
    "Trong thư mục “BaiTap” tạo 8 tệp được đặt tên là “file_i.txt” trong đó i chạy từ 1 - 8"
   ]
  },
  {
   "cell_type": "code",
   "execution_count": 17,
   "metadata": {},
   "outputs": [
    {
     "name": "stdout",
     "output_type": "stream",
     "text": [
      "file_1.txt  file_3.txt\tfile_5.txt  file_7.txt\ttonghop.txt\n",
      "file_2.txt  file_4.txt\tfile_6.txt  file_8.txt\n"
     ]
    }
   ],
   "source": [
    "!touch student/Desktop/LINUX/BaiTap/file_{1..8}.txt && ls student/Desktop/LINUX/BaiTap"
   ]
  },
  {
   "cell_type": "markdown",
   "metadata": {},
   "source": [
    "Or bash script\n",
    "```bash\n",
    "for i in {1..8}; do\n",
    "    touch \"file_${i}.txt\"  # Tạo tệp\n",
    "    # or \n",
    "    # printf \"\" > \"file_${i}.txt\"  # Tạo tệp\n",
    "done\n",
    "```\n",
    "\n",
    "Or \n",
    "```bash\n",
    "for i in $(seq 1 8); do\n",
    "    touch \"file_${i}.txt\"  # Tạo tệp\n",
    "done\n",
    "```"
   ]
  },
  {
   "cell_type": "markdown",
   "metadata": {},
   "source": [
    "# Xóa tệp thỏa mãn điều kiện\n",
    "\n",
    "Chỉ sử dụng duy nhất 01 câu lệnh để xóa 8 tệp vừa tạo (sử dụng wildcard). Thực hiện theo hai cách."
   ]
  },
  {
   "cell_type": "code",
   "execution_count": 18,
   "metadata": {},
   "outputs": [
    {
     "name": "stdout",
     "output_type": "stream",
     "text": [
      ".  ..  tonghop.txt\n"
     ]
    }
   ],
   "source": [
    "!rm student/Desktop/LINUX/BaiTap/file_{1..8}.txt\n",
    "# !rm student/Desktop/LINUX/BaiTap/file*\n",
    "# !rm student/Desktop/LINUX/BaiTap/*[[:digit:]]*\n",
    "!ls -a student/Desktop/LINUX/BaiTap/"
   ]
  }
 ],
 "metadata": {
  "kernelspec": {
   "display_name": "ai_work#311",
   "language": "python",
   "name": "python3"
  },
  "language_info": {
   "codemirror_mode": {
    "name": "ipython",
    "version": 3
   },
   "file_extension": ".py",
   "mimetype": "text/x-python",
   "name": "python",
   "nbconvert_exporter": "python",
   "pygments_lexer": "ipython3",
   "version": "3.11.9"
  }
 },
 "nbformat": 4,
 "nbformat_minor": 2
}
